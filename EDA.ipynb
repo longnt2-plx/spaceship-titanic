{
 "cells": [
  {
   "cell_type": "code",
   "execution_count": null,
   "metadata": {},
   "outputs": [],
   "source": [
    "import pandas as pd\n",
    "import numpy as np\n",
    "import seaborn as sns\n",
    "import matplotlib.pyplot as plt\n",
    "\n",
    "from ydata_profiling import ProfileReport\n",
    "\n",
    "from sklearn.preprocessing import LabelEncoder"
   ]
  },
  {
   "cell_type": "code",
   "execution_count": null,
   "metadata": {},
   "outputs": [],
   "source": [
    "df = pd.read_csv('data/train.csv')\n",
    "df"
   ]
  },
  {
   "cell_type": "code",
   "execution_count": null,
   "metadata": {},
   "outputs": [],
   "source": [
    "class Preprocessor:\n",
    "    def __init__(self):\n",
    "        pass\n",
    "        # self.encoder = {}\n",
    "\n",
    "\n",
    "    def fit_transform(self, df):\n",
    "        df = self.group_passenger(df)\n",
    "        df = self.group_cabin(df)\n",
    "\n",
    "        df.drop('Name', axis=1, inplace=True)\n",
    "\n",
    "        df.set_index('PassengerId', inplace=True)\n",
    "\n",
    "        df['Age'] = df['Age'].fillna(df['Age'].mean())\n",
    "        for column in df.columns:\n",
    "            if df[column].dtype == 'object' or df[column].dtype == 'bool':\n",
    "                pass\n",
    "            else:\n",
    "                df[column] = df[column].fillna(0)\n",
    "\n",
    "        df['Total_Spend'] = df['RoomService'] + df['FoodCourt'] + df['ShoppingMall'] + df['Spa'] + df['VRDeck']\n",
    "\n",
    "        # for column in df.columns:\n",
    "        #     if df[column].dtype == 'object' or df[column].dtype == 'bool':\n",
    "        #         # self.encoder[column] = LabelEncoder()\n",
    "        #         df[column] = LabelEncoder().fit_transform(df[column])\n",
    "\n",
    "        return df\n",
    "    \n",
    "    def group_passenger(self, df):\n",
    "        df['Passenger_Group'] = df['PassengerId'].apply(lambda x: x.split('_')[0])\n",
    "        return df\n",
    "    \n",
    "    def group_cabin(self, df):\n",
    "        cabin_df = df['Cabin'].str.split('/', expand=True)\n",
    "\n",
    "        df['Cabin_Deck'] = cabin_df[0]\n",
    "        df['Cabin_Number'] = cabin_df[1]\n",
    "        df['Cabin_Side'] = cabin_df[2]\n",
    "        \n",
    "        # print(df[['Cabin', 'Cabin_Deck', 'Cabin_Number', 'Cabin_Side']])\n",
    "        \n",
    "        df.drop('Cabin', axis=1, inplace=True)\n",
    "        \n",
    "        return df\n",
    "\n",
    "preprocessor = Preprocessor()\n",
    "df = preprocessor.fit_transform(df)\n",
    "df"
   ]
  },
  {
   "cell_type": "code",
   "execution_count": null,
   "metadata": {},
   "outputs": [],
   "source": [
    "profile = ProfileReport() \n",
    "profile.to_widgets()"
   ]
  },
  {
   "cell_type": "code",
   "execution_count": null,
   "metadata": {},
   "outputs": [],
   "source": [
    "profile.to_notebook_iframe()"
   ]
  },
  {
   "cell_type": "code",
   "execution_count": null,
   "metadata": {},
   "outputs": [],
   "source": [
    "profile.to_file(\"output.html\")"
   ]
  },
  {
   "cell_type": "code",
   "execution_count": null,
   "metadata": {},
   "outputs": [],
   "source": []
  }
 ],
 "metadata": {
  "kernelspec": {
   "display_name": "env",
   "language": "python",
   "name": "python3"
  },
  "language_info": {
   "codemirror_mode": {
    "name": "ipython",
    "version": 3
   },
   "file_extension": ".py",
   "mimetype": "text/x-python",
   "name": "python",
   "nbconvert_exporter": "python",
   "pygments_lexer": "ipython3",
   "version": "3.11.2"
  }
 },
 "nbformat": 4,
 "nbformat_minor": 2
}
